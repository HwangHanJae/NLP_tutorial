{
  "nbformat": 4,
  "nbformat_minor": 0,
  "metadata": {
    "colab": {
      "name": "Dacon_NLP_tutorial_3.ipynb",
      "provenance": [],
      "collapsed_sections": [],
      "toc_visible": true,
      "authorship_tag": "ABX9TyNVvAK+AaEEL/63ZUnNYiiR",
      "include_colab_link": true
    },
    "kernelspec": {
      "name": "python3",
      "display_name": "Python 3"
    },
    "language_info": {
      "name": "python"
    }
  },
  "cells": [
    {
      "cell_type": "markdown",
      "metadata": {
        "id": "view-in-github",
        "colab_type": "text"
      },
      "source": [
        "<a href=\"https://colab.research.google.com/github/HwangHanJae/NLP_tutorial/blob/main/Dacon_NLP_tutorial_3.ipynb\" target=\"_parent\"><img src=\"https://colab.research.google.com/assets/colab-badge.svg\" alt=\"Open In Colab\"/></a>"
      ]
    },
    {
      "cell_type": "markdown",
      "metadata": {
        "id": "6nUUEPdkUKcL"
      },
      "source": [
        "# Vectorization 이란?\n",
        "\n",
        "- NLP를 컴퓨터가 이해할 수 있게 수치로 바꾸는 것을 말합니다. 이때 벡터로 변환된 고유의 토큰들이 모인 집합을 vocabulary라 하며 vocabulary가 크면 클수록 학습이 오래 걸리게 됩니다. 다양한 벡터화 함수들이 존재하지만 이번 노트북에서는 가장 기본적으로 많이 쓰이는 세 가지를 소개하겠습니다.\n",
        "\n",
        "- 토큰들을 벡터화하기 이전에 형태소 분석기를 사용하여 문자을 원하는 토큰들로 분리합니다.\n"
      ]
    },
    {
      "cell_type": "code",
      "metadata": {
        "colab": {
          "base_uri": "https://localhost:8080/"
        },
        "id": "O5Mly3eEWSxG",
        "outputId": "9231904c-ea5e-49a9-84bd-28cd00e7b190"
      },
      "source": [
        "!pip install konlpy"
      ],
      "execution_count": 2,
      "outputs": [
        {
          "output_type": "stream",
          "text": [
            "Collecting konlpy\n",
            "  Downloading konlpy-0.5.2-py2.py3-none-any.whl (19.4 MB)\n",
            "\u001b[K     |████████████████████████████████| 19.4 MB 1.6 MB/s \n",
            "\u001b[?25hRequirement already satisfied: tweepy>=3.7.0 in /usr/local/lib/python3.7/dist-packages (from konlpy) (3.10.0)\n",
            "Requirement already satisfied: lxml>=4.1.0 in /usr/local/lib/python3.7/dist-packages (from konlpy) (4.2.6)\n",
            "Collecting colorama\n",
            "  Downloading colorama-0.4.4-py2.py3-none-any.whl (16 kB)\n",
            "Collecting beautifulsoup4==4.6.0\n",
            "  Downloading beautifulsoup4-4.6.0-py3-none-any.whl (86 kB)\n",
            "\u001b[K     |████████████████████████████████| 86 kB 4.3 MB/s \n",
            "\u001b[?25hCollecting JPype1>=0.7.0\n",
            "  Downloading JPype1-1.3.0-cp37-cp37m-manylinux_2_5_x86_64.manylinux1_x86_64.whl (448 kB)\n",
            "\u001b[K     |████████████████████████████████| 448 kB 43.1 MB/s \n",
            "\u001b[?25hRequirement already satisfied: numpy>=1.6 in /usr/local/lib/python3.7/dist-packages (from konlpy) (1.19.5)\n",
            "Requirement already satisfied: typing-extensions in /usr/local/lib/python3.7/dist-packages (from JPype1>=0.7.0->konlpy) (3.7.4.3)\n",
            "Requirement already satisfied: requests-oauthlib>=0.7.0 in /usr/local/lib/python3.7/dist-packages (from tweepy>=3.7.0->konlpy) (1.3.0)\n",
            "Requirement already satisfied: requests[socks]>=2.11.1 in /usr/local/lib/python3.7/dist-packages (from tweepy>=3.7.0->konlpy) (2.23.0)\n",
            "Requirement already satisfied: six>=1.10.0 in /usr/local/lib/python3.7/dist-packages (from tweepy>=3.7.0->konlpy) (1.15.0)\n",
            "Requirement already satisfied: oauthlib>=3.0.0 in /usr/local/lib/python3.7/dist-packages (from requests-oauthlib>=0.7.0->tweepy>=3.7.0->konlpy) (3.1.1)\n",
            "Requirement already satisfied: urllib3!=1.25.0,!=1.25.1,<1.26,>=1.21.1 in /usr/local/lib/python3.7/dist-packages (from requests[socks]>=2.11.1->tweepy>=3.7.0->konlpy) (1.24.3)\n",
            "Requirement already satisfied: chardet<4,>=3.0.2 in /usr/local/lib/python3.7/dist-packages (from requests[socks]>=2.11.1->tweepy>=3.7.0->konlpy) (3.0.4)\n",
            "Requirement already satisfied: idna<3,>=2.5 in /usr/local/lib/python3.7/dist-packages (from requests[socks]>=2.11.1->tweepy>=3.7.0->konlpy) (2.10)\n",
            "Requirement already satisfied: certifi>=2017.4.17 in /usr/local/lib/python3.7/dist-packages (from requests[socks]>=2.11.1->tweepy>=3.7.0->konlpy) (2021.5.30)\n",
            "Requirement already satisfied: PySocks!=1.5.7,>=1.5.6 in /usr/local/lib/python3.7/dist-packages (from requests[socks]>=2.11.1->tweepy>=3.7.0->konlpy) (1.7.1)\n",
            "Installing collected packages: JPype1, colorama, beautifulsoup4, konlpy\n",
            "  Attempting uninstall: beautifulsoup4\n",
            "    Found existing installation: beautifulsoup4 4.6.3\n",
            "    Uninstalling beautifulsoup4-4.6.3:\n",
            "      Successfully uninstalled beautifulsoup4-4.6.3\n",
            "Successfully installed JPype1-1.3.0 beautifulsoup4-4.6.0 colorama-0.4.4 konlpy-0.5.2\n"
          ],
          "name": "stdout"
        }
      ]
    },
    {
      "cell_type": "code",
      "metadata": {
        "colab": {
          "base_uri": "https://localhost:8080/"
        },
        "id": "qowYUJOiWLuJ",
        "outputId": "6c42d93a-abe2-4fef-ba28-195eb39192c0"
      },
      "source": [
        "from konlpy.tag import Okt\n",
        "import re\n",
        "Okt = Okt()\n",
        "\n",
        "sentences = ['자연어 처리는 정말 즐거워.', '즐거운 자연어 처리 다같이 해보자.']\n",
        "\n",
        "tokens = []\n",
        "\n",
        "for sentence in sentences:\n",
        "  sentence = re.sub('[^가-힣a-z]','',sentence) # 간단한 전처리\n",
        "  token = (Okt.morphs(sentence)) #형태소 분석기를 이용한 토큰 나누기\n",
        "  tokens.append(' '.join(token))\n",
        "\n",
        "print(\"형태소 단위로 문장 분리\")\n",
        "print(\"-----------------------\")\n",
        "print(tokens)"
      ],
      "execution_count": 10,
      "outputs": [
        {
          "output_type": "stream",
          "text": [
            "형태소 단위로 문장 분리\n",
            "-----------------------\n",
            "['자연어 처리 는 정말 즐거워', '즐거운 자연어 처리 다 같이 해보자']\n"
          ],
          "name": "stdout"
        }
      ]
    },
    {
      "cell_type": "markdown",
      "metadata": {
        "id": "R4f9aZWFWVqj"
      },
      "source": [
        "# 1.One Hot Encoding\n",
        "- 해당 단어가 존재하면 1, 그렇지 않으면 모두 0으로 표시되는 기법입니다.\n",
        "- keras를 이용하면 쉽게 구현이 가능하며 texts_to_sequences를 활용해 각 토큰에 고유한 정수를 부여한 후 to_categorical을 활용하여 간단하게 구현합니다."
      ]
    },
    {
      "cell_type": "code",
      "metadata": {
        "colab": {
          "base_uri": "https://localhost:8080/"
        },
        "id": "NdAB8lLmXgxk",
        "outputId": "9c8e068a-809e-4c43-bfa1-61e8cd8d5649"
      },
      "source": [
        "from tensorflow.keras.preprocessing.text import Tokenizer\n",
        "from tensorflow.keras.utils import to_categorical\n",
        "\n",
        "t = Tokenizer()\n",
        "t.fit_on_texts(tokens)\n",
        "\n",
        "print(\"각 토큰에게 고유의 정수 부여\")\n",
        "print(\"-\"*20)\n",
        "print(t.word_index)\n",
        "print()\n",
        "\n",
        "s1 = t.texts_to_sequences(tokens)[0]\n",
        "print(\"부여된 정수로 표시된 문장1\")\n",
        "print(\"-\"*20)\n",
        "print(s1)\n",
        "print()\n",
        "\n",
        "s2 = t.texts_to_sequences(tokens)[1]\n",
        "print(\"부여된 정수로 표시된 문장2\")\n",
        "print(\"-\"*20)\n",
        "print(s2)\n",
        "print()\n",
        "\n",
        "s1_one_hot = to_categorical(s1)\n",
        "print(\"문장1의 ont-hot-encoding\")\n",
        "print(\"-\"*20)\n",
        "print(s1_one_hot)\n",
        "print()\n",
        "\n",
        "s2_one_hot = to_categorical(s2)\n",
        "print(\"문장2의 one-hot-encoding\")\n",
        "print(\"-\"*20)\n",
        "print(s2_one_hot)"
      ],
      "execution_count": 17,
      "outputs": [
        {
          "output_type": "stream",
          "text": [
            "각 토큰에게 고유의 정수 부여\n",
            "--------------------\n",
            "{'자연어': 1, '처리': 2, '는': 3, '정말': 4, '즐거워': 5, '즐거운': 6, '다': 7, '같이': 8, '해보자': 9}\n",
            "\n",
            "부여된 정수로 표시된 문장1\n",
            "--------------------\n",
            "[1, 2, 3, 4, 5]\n",
            "\n",
            "부여된 정수로 표시된 문장2\n",
            "--------------------\n",
            "[6, 1, 2, 7, 8, 9]\n",
            "\n",
            "문장1의 ont-hot-encoding\n",
            "--------------------\n",
            "[[0. 1. 0. 0. 0. 0.]\n",
            " [0. 0. 1. 0. 0. 0.]\n",
            " [0. 0. 0. 1. 0. 0.]\n",
            " [0. 0. 0. 0. 1. 0.]\n",
            " [0. 0. 0. 0. 0. 1.]]\n",
            "\n",
            "문장2의 one-hot-encoding\n",
            "--------------------\n",
            "[[0. 0. 0. 0. 0. 0. 1. 0. 0. 0.]\n",
            " [0. 1. 0. 0. 0. 0. 0. 0. 0. 0.]\n",
            " [0. 0. 1. 0. 0. 0. 0. 0. 0. 0.]\n",
            " [0. 0. 0. 0. 0. 0. 0. 1. 0. 0.]\n",
            " [0. 0. 0. 0. 0. 0. 0. 0. 1. 0.]\n",
            " [0. 0. 0. 0. 0. 0. 0. 0. 0. 1.]]\n"
          ],
          "name": "stdout"
        }
      ]
    },
    {
      "cell_type": "markdown",
      "metadata": {
        "id": "3bEhf9tfXscA"
      },
      "source": [
        "- 이 방식은 vocabulary의 크기가 커짐에 따라 많은 공간을 차지하게 되고 벡터가 굉장히 sparse 해지기 때문에 모델에게 좋은 특성을 알려주지 못하는 경우가 대부분입니다."
      ]
    },
    {
      "cell_type": "markdown",
      "metadata": {
        "id": "Ca9lbralZMyU"
      },
      "source": [
        "# 2.Count vectorization\n",
        "- 이 방식은 vocabulary를 활용하여 각 문장이 갖고 있는 토큰의 count를 기반으로 문장을 vectorization 해줍니다. 아래 예시를 통해 알아봅시다."
      ]
    },
    {
      "cell_type": "code",
      "metadata": {
        "colab": {
          "base_uri": "https://localhost:8080/"
        },
        "id": "ZNShyqdUZZhL",
        "outputId": "49bf7b7b-d23e-4a4c-993b-612a53ea9792"
      },
      "source": [
        "from sklearn.feature_extraction.text import CountVectorizer\n",
        "vectorizer = CountVectorizer()\n",
        "\n",
        "vectors = vectorizer.fit_transform(tokens) #여러 개의 문장을 넣어줘야 작동함\n",
        "\n",
        "print(vectorizer.get_feature_names())\n",
        "print(vectors.toarray())"
      ],
      "execution_count": 20,
      "outputs": [
        {
          "output_type": "stream",
          "text": [
            "['같이', '자연어', '정말', '즐거운', '즐거워', '처리', '해보자']\n",
            "[[0 1 1 0 1 1 0]\n",
            " [1 1 0 1 0 1 1]]\n"
          ],
          "name": "stdout"
        }
      ]
    },
    {
      "cell_type": "markdown",
      "metadata": {
        "id": "kloKlQouZqDV"
      },
      "source": [
        "벡터화 결과 각 문장은 vocabulary의 인덱스를 기준으로 카운트가 정수로 표시된 것을 알 수 있습니다."
      ]
    },
    {
      "cell_type": "markdown",
      "metadata": {
        "id": "55yOhtyIZ-3n"
      },
      "source": [
        "또한, 이 부분에서 형태소 분석기의 중요성에 대해서 알 수 있습니다. 즐거운과 즐거워는 같은 의미를 갖는 토큰이지만 okt는 이를 구분해주지 못해서 다른 토큰으로 분리가 되었습니다.\n",
        "이는 모델에서 같은 의미의 토큰을 다르게 학습할 수 있음을 의미합니다."
      ]
    },
    {
      "cell_type": "markdown",
      "metadata": {
        "id": "HZU3bXM0aLO4"
      },
      "source": [
        "# 3.TfIdf\n",
        "\n",
        "- 단어가 몇번 등장 했는지에 대한 정보\n",
        "- 어떤 단어가 언급된 문서의 수가 적다면 그 단어는 문서를 분류하는데 있어서 중요한 단어\n",
        "\n",
        "즉 등장 횟수도 많고 문서 분별력 있는 단어들을 점수화하여 벡터화를 한 것이 TfIdf기법입니다."
      ]
    },
    {
      "cell_type": "code",
      "metadata": {
        "colab": {
          "base_uri": "https://localhost:8080/"
        },
        "id": "Eg94atNcaM1V",
        "outputId": "9e6455a5-4213-435b-97b6-474b9d801f5c"
      },
      "source": [
        "from sklearn.feature_extraction.text import TfidfVectorizer\n",
        "\n",
        "tfidf = TfidfVectorizer(min_df = 0)\n",
        "tfidf_vectorizer = tfidf.fit_transform(tokens)\n",
        "\n",
        "#tf-idf dictionary\n",
        "tfidf_dict = tfidf.get_feature_names()\n",
        "print(tfidf_dict)\n",
        "print(tfidf_vectorizer.toarray())\n"
      ],
      "execution_count": 22,
      "outputs": [
        {
          "output_type": "stream",
          "text": [
            "['같이', '자연어', '정말', '즐거운', '즐거워', '처리', '해보자']\n",
            "[[0.         0.40993715 0.57615236 0.         0.57615236 0.40993715\n",
            "  0.        ]\n",
            " [0.49922133 0.35520009 0.         0.49922133 0.         0.35520009\n",
            "  0.49922133]]\n"
          ],
          "name": "stdout"
        }
      ]
    },
    {
      "cell_type": "markdown",
      "metadata": {
        "id": "Zhv7jdgCbE_t"
      },
      "source": [
        "Count Vectorization과 동일한 방법이지만 단어들에 대한 가중치가 다르게 표시됩니다."
      ]
    },
    {
      "cell_type": "markdown",
      "metadata": {
        "id": "H53TmdjTbLtZ"
      },
      "source": [
        "# 4.Padding\n",
        "\n",
        "- 여기서 우리는 한 가지 궁금증이 생기게 됩니다. 우리가 사용하던 모델들은 DataFrame형식의 row별 동일한 column수를 가지게되는데 \n",
        "NLP에서는 row별(문장별) column(토큰의 개수)가 같지 않아도 되는건가?? \n",
        "가변 길이의 문장들을 입력으로 넣어도 되는건가?\n",
        "\n",
        "- 가변 길이의 입력을 받는 모형들이 존재하지만 아쉽게도 기본적으로는 문자의 길이를 동일하게 맞춰주어야 합니다. 문장의 길이를 맞춰주기 위하여 부족한 길이 만큼 0을 채워넣게 되는 이것이 Padding입니다."
      ]
    }
  ]
}