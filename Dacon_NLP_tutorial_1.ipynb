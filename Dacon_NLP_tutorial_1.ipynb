{
  "nbformat": 4,
  "nbformat_minor": 0,
  "metadata": {
    "colab": {
      "name": "Dacon_NLP_tutorial_1.ipynb",
      "provenance": [],
      "collapsed_sections": [],
      "toc_visible": true,
      "authorship_tag": "ABX9TyNxSkU1shJSMat9+5hwCjRu",
      "include_colab_link": true
    },
    "kernelspec": {
      "name": "python3",
      "display_name": "Python 3"
    },
    "language_info": {
      "name": "python"
    }
  },
  "cells": [
    {
      "cell_type": "markdown",
      "metadata": {
        "id": "view-in-github",
        "colab_type": "text"
      },
      "source": [
        "<a href=\"https://colab.research.google.com/github/HwangHanJae/NLP_tutorial/blob/main/Dacon_NLP_tutorial_1.ipynb\" target=\"_parent\"><img src=\"https://colab.research.google.com/assets/colab-badge.svg\" alt=\"Open In Colab\"/></a>"
      ]
    },
    {
      "cell_type": "markdown",
      "metadata": {
        "id": "9a2mxT9JfLr6"
      },
      "source": [
        "# 1.자연어 처리란?\n",
        "\n",
        "자연어(Natural Language)란 우리가 일상 생활에서 사용하는 언어들을 말합니다. 따라서 자연어 처리(Natural Language Processing)란 다음과 같습니다.\n",
        "- 자연어의 의미를 분석하여 컴퓨터로 다양한 문제를 해결ㅎ는 것\n",
        "\n",
        "최근 딥러닝이 발전하게 되면서 자연어 처리가 주요 관심사로 떠오르고 있습니다.\n",
        "하지만 언어라는 것은 사회의 문화적/사회적 특성을 담고 있고 매우 정교하게 발전되어 왔기 때문에 컴퓨터가 자연어를 완벽히 이해하기 위해서는 아직 많은 연구가 필요한 분야입니다.\n",
        "\n",
        "자연어 처리를 통해 해결할 수 있는 문제들은 다음과 같습니다."
      ]
    },
    {
      "cell_type": "markdown",
      "metadata": {
        "id": "P8sCAgtmftow"
      },
      "source": [
        "## *텍스트분류\n",
        "\n",
        "특정 문장이나 문서를 어떠한 카테고리로 분류하는 문제를 의미합니다. 이 문제는 가장 간단한 자연어 처리 문제로 스팸 메일 분류가 해당 문제입니다."
      ]
    },
    {
      "cell_type": "markdown",
      "metadata": {
        "id": "iRGyn1w8fBxw"
      },
      "source": [
        "## *감성 분석(Sentimental Analysis)\n",
        "\n",
        "감성 분석 또한 자연어 처리에서 자주 사용되는 문제입니다. 사업보고서의 긍/부정을 파악하여 기업에 대한 평가를 내리는 등 다양한 분야에 활용이 가능합니다. 사람과 대화하는 인공지능이 대화 상대방의 감정을 파악하여 대화 주제를 바꾸는 것도 가능합니다."
      ]
    },
    {
      "cell_type": "markdown",
      "metadata": {
        "id": "iXcAy4iRgYpZ"
      },
      "source": [
        "## *내용 요약(Text Summarization)\n",
        "\n",
        "- 추출 요약 : 문서에서 중요하다고 생각되는 문장들을 뽑아내어 요약문으로 이용하는 방법\n",
        "- 생성 요약 : 요약문을 새롭게 생성하는 방법"
      ]
    },
    {
      "cell_type": "markdown",
      "metadata": {
        "id": "ssO8m-ZvgwIp"
      },
      "source": [
        "## * 기계 번역(Machine Translation)\n",
        "- 기계 번역은 자연어 처리 분야에서 가장 활발한 연구가 이루어지고 있는 분야입니다. 말 그대로 서로 다른 나라의 언어로 번역해주는 문제로 각 언어가 갖고 있는 의미론적 부분까지 번역을 하기 위해서는 더 많은 연구가 필요합니다."
      ]
    },
    {
      "cell_type": "markdown",
      "metadata": {
        "id": "pJSeBo5lg9XQ"
      },
      "source": [
        "## * 챗봇(Chat Bot)\n",
        "\n",
        "일상 생활에 가장 깊숙히 자리잡은 자연어 처리 문제입니다. 다양한 어플리케이션에서도 내부적으로 챗봇이 구현되어 있습니다. 하지만 여전히 NLP가 갖는 한계를 갖고 있으며 사람과 대화하는 수준의 챗봇은 아직 만나기 어렵습니다."
      ]
    },
    {
      "cell_type": "markdown",
      "metadata": {
        "id": "ozJhEWYehT6M"
      },
      "source": [
        "# 2.자연어 처리 과정\n",
        "\n",
        "1. Preprocessing\n",
        "- 불용어제거(Stopwords removing), 형태소 분석(Stemming), 표제어 추출(Lemmatization)\n",
        "2. Vectorization\n",
        "- One-hot-Encoding, Count vectorization, Tfidf, Padding\n",
        "3. Embedding\n",
        "- Word2vec, Doc2vec, Glove, Fasttext\n",
        "4. Modeling\n",
        "- GRU, LSTM, Attention"
      ]
    },
    {
      "cell_type": "markdown",
      "metadata": {
        "id": "T1p_vmk8hNBA"
      },
      "source": [
        "# 3.적용(Text Classification)"
      ]
    }
  ]
}